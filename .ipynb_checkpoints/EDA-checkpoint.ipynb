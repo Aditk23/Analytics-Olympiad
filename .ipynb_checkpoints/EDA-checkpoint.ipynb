{
 "cells": [
  {
   "cell_type": "code",
   "execution_count": 2,
   "id": "11978dc6",
   "metadata": {},
   "outputs": [],
   "source": [
    "import numpy as np\n",
    "import pandas as pd\n",
    "import matplotlib.pyplot as plt\n",
    "import seaborn as sns\n"
   ]
  },
  {
   "cell_type": "code",
   "execution_count": 18,
   "id": "36669377",
   "metadata": {},
   "outputs": [],
   "source": [
    "import warnings\n",
    "warnings.filterwarnings(\"ignore\")"
   ]
  },
  {
   "cell_type": "code",
   "execution_count": 3,
   "id": "1c13a948",
   "metadata": {},
   "outputs": [
    {
     "data": {
      "text/html": [
       "<div>\n",
       "<style scoped>\n",
       "    .dataframe tbody tr th:only-of-type {\n",
       "        vertical-align: middle;\n",
       "    }\n",
       "\n",
       "    .dataframe tbody tr th {\n",
       "        vertical-align: top;\n",
       "    }\n",
       "\n",
       "    .dataframe thead th {\n",
       "        text-align: right;\n",
       "    }\n",
       "</style>\n",
       "<table border=\"1\" class=\"dataframe\">\n",
       "  <thead>\n",
       "    <tr style=\"text-align: right;\">\n",
       "      <th></th>\n",
       "      <th>Item_ID</th>\n",
       "      <th>Item_W</th>\n",
       "      <th>Item_Type</th>\n",
       "      <th>Item_MRP</th>\n",
       "      <th>Outlet_ID</th>\n",
       "      <th>Outlet_Year</th>\n",
       "      <th>Outlet_Size</th>\n",
       "      <th>Outlet_Location_Type</th>\n",
       "      <th>Sales</th>\n",
       "    </tr>\n",
       "  </thead>\n",
       "  <tbody>\n",
       "    <tr>\n",
       "      <th>0</th>\n",
       "      <td>FDU32</td>\n",
       "      <td>21.027499</td>\n",
       "      <td>Baking Goods</td>\n",
       "      <td>197.352319</td>\n",
       "      <td>OUT046</td>\n",
       "      <td>2004</td>\n",
       "      <td>Small</td>\n",
       "      <td>Tier 2</td>\n",
       "      <td>2689.457781</td>\n",
       "    </tr>\n",
       "    <tr>\n",
       "      <th>1</th>\n",
       "      <td>NCT54</td>\n",
       "      <td>21.102371</td>\n",
       "      <td>Meat</td>\n",
       "      <td>148.250214</td>\n",
       "      <td>OUT035</td>\n",
       "      <td>1987</td>\n",
       "      <td>Small</td>\n",
       "      <td>Tier 1</td>\n",
       "      <td>3437.350375</td>\n",
       "    </tr>\n",
       "    <tr>\n",
       "      <th>2</th>\n",
       "      <td>FDW08</td>\n",
       "      <td>20.882263</td>\n",
       "      <td>Hard Drinks</td>\n",
       "      <td>205.465010</td>\n",
       "      <td>OUT035</td>\n",
       "      <td>1999</td>\n",
       "      <td>Small</td>\n",
       "      <td>Tier 3</td>\n",
       "      <td>3129.967268</td>\n",
       "    </tr>\n",
       "    <tr>\n",
       "      <th>3</th>\n",
       "      <td>FDJ22</td>\n",
       "      <td>21.050435</td>\n",
       "      <td>Starchy Foods</td>\n",
       "      <td>253.417583</td>\n",
       "      <td>OUT046</td>\n",
       "      <td>1996</td>\n",
       "      <td>Small</td>\n",
       "      <td>Tier 1</td>\n",
       "      <td>1306.514376</td>\n",
       "    </tr>\n",
       "    <tr>\n",
       "      <th>4</th>\n",
       "      <td>FDF47</td>\n",
       "      <td>21.247876</td>\n",
       "      <td>Baking Goods</td>\n",
       "      <td>240.871039</td>\n",
       "      <td>OUT035</td>\n",
       "      <td>1988</td>\n",
       "      <td>Small</td>\n",
       "      <td>Tier 3</td>\n",
       "      <td>1739.769829</td>\n",
       "    </tr>\n",
       "    <tr>\n",
       "      <th>5</th>\n",
       "      <td>DRK12</td>\n",
       "      <td>20.956395</td>\n",
       "      <td>Baking Goods</td>\n",
       "      <td>130.264868</td>\n",
       "      <td>OUT049</td>\n",
       "      <td>1999</td>\n",
       "      <td>Small</td>\n",
       "      <td>Tier 1</td>\n",
       "      <td>1963.629422</td>\n",
       "    </tr>\n",
       "    <tr>\n",
       "      <th>6</th>\n",
       "      <td>FDA32</td>\n",
       "      <td>21.196562</td>\n",
       "      <td>Breads</td>\n",
       "      <td>239.259785</td>\n",
       "      <td>OUT035</td>\n",
       "      <td>1999</td>\n",
       "      <td>Small</td>\n",
       "      <td>Tier 2</td>\n",
       "      <td>581.887837</td>\n",
       "    </tr>\n",
       "    <tr>\n",
       "      <th>7</th>\n",
       "      <td>FDH24</td>\n",
       "      <td>20.949318</td>\n",
       "      <td>Hard Drinks</td>\n",
       "      <td>167.267122</td>\n",
       "      <td>OUT046</td>\n",
       "      <td>1997</td>\n",
       "      <td>Small</td>\n",
       "      <td>Tier 2</td>\n",
       "      <td>679.055015</td>\n",
       "    </tr>\n",
       "    <tr>\n",
       "      <th>8</th>\n",
       "      <td>FDW03</td>\n",
       "      <td>20.884811</td>\n",
       "      <td>Baking Goods</td>\n",
       "      <td>185.453864</td>\n",
       "      <td>OUT049</td>\n",
       "      <td>1997</td>\n",
       "      <td>Small</td>\n",
       "      <td>Tier 1</td>\n",
       "      <td>1991.320168</td>\n",
       "    </tr>\n",
       "    <tr>\n",
       "      <th>9</th>\n",
       "      <td>FDE11</td>\n",
       "      <td>21.183640</td>\n",
       "      <td>Others</td>\n",
       "      <td>239.191172</td>\n",
       "      <td>OUT018</td>\n",
       "      <td>2009</td>\n",
       "      <td>Small</td>\n",
       "      <td>Tier 1</td>\n",
       "      <td>730.148977</td>\n",
       "    </tr>\n",
       "  </tbody>\n",
       "</table>\n",
       "</div>"
      ],
      "text/plain": [
       "  Item_ID     Item_W      Item_Type    Item_MRP Outlet_ID  Outlet_Year  \\\n",
       "0   FDU32  21.027499   Baking Goods  197.352319    OUT046         2004   \n",
       "1   NCT54  21.102371           Meat  148.250214    OUT035         1987   \n",
       "2   FDW08  20.882263    Hard Drinks  205.465010    OUT035         1999   \n",
       "3   FDJ22  21.050435  Starchy Foods  253.417583    OUT046         1996   \n",
       "4   FDF47  21.247876   Baking Goods  240.871039    OUT035         1988   \n",
       "5   DRK12  20.956395   Baking Goods  130.264868    OUT049         1999   \n",
       "6   FDA32  21.196562         Breads  239.259785    OUT035         1999   \n",
       "7   FDH24  20.949318    Hard Drinks  167.267122    OUT046         1997   \n",
       "8   FDW03  20.884811   Baking Goods  185.453864    OUT049         1997   \n",
       "9   FDE11  21.183640         Others  239.191172    OUT018         2009   \n",
       "\n",
       "  Outlet_Size Outlet_Location_Type        Sales  \n",
       "0       Small               Tier 2  2689.457781  \n",
       "1       Small               Tier 1  3437.350375  \n",
       "2       Small               Tier 3  3129.967268  \n",
       "3       Small               Tier 1  1306.514376  \n",
       "4       Small               Tier 3  1739.769829  \n",
       "5       Small               Tier 1  1963.629422  \n",
       "6       Small               Tier 2   581.887837  \n",
       "7       Small               Tier 2   679.055015  \n",
       "8       Small               Tier 1  1991.320168  \n",
       "9       Small               Tier 1   730.148977  "
      ]
     },
     "execution_count": 3,
     "metadata": {},
     "output_type": "execute_result"
    }
   ],
   "source": [
    "train = pd.read_csv('train.csv')\n",
    "train.head(10)"
   ]
  },
  {
   "cell_type": "code",
   "execution_count": 4,
   "id": "59af029d",
   "metadata": {},
   "outputs": [
    {
     "data": {
      "text/plain": [
       "(87864, 9)"
      ]
     },
     "execution_count": 4,
     "metadata": {},
     "output_type": "execute_result"
    }
   ],
   "source": [
    "train.shape"
   ]
  },
  {
   "cell_type": "code",
   "execution_count": 6,
   "id": "b81f4cba",
   "metadata": {},
   "outputs": [
    {
     "data": {
      "text/plain": [
       "Item_ID                 0\n",
       "Item_W                  0\n",
       "Item_Type               0\n",
       "Item_MRP                0\n",
       "Outlet_ID               0\n",
       "Outlet_Year             0\n",
       "Outlet_Size             0\n",
       "Outlet_Location_Type    0\n",
       "Sales                   0\n",
       "dtype: int64"
      ]
     },
     "execution_count": 6,
     "metadata": {},
     "output_type": "execute_result"
    }
   ],
   "source": [
    "train.isnull().sum()"
   ]
  },
  {
   "cell_type": "code",
   "execution_count": 21,
   "id": "2cd58bba",
   "metadata": {},
   "outputs": [
    {
     "data": {
      "text/plain": [
       "Item_ID                  object\n",
       "Item_W                  float64\n",
       "Item_Type                object\n",
       "Item_MRP                float64\n",
       "Outlet_ID                object\n",
       "Outlet_Year               int64\n",
       "Outlet_Size              object\n",
       "Outlet_Location_Type     object\n",
       "Sales                   float64\n",
       "dtype: object"
      ]
     },
     "execution_count": 21,
     "metadata": {},
     "output_type": "execute_result"
    }
   ],
   "source": [
    "train.dtypes"
   ]
  },
  {
   "cell_type": "code",
   "execution_count": 23,
   "id": "6d4bd6ad",
   "metadata": {},
   "outputs": [
    {
     "data": {
      "text/plain": [
       "Sales    1911.84212\n",
       "dtype: float64"
      ]
     },
     "execution_count": 23,
     "metadata": {},
     "output_type": "execute_result"
    }
   ],
   "source": [
    "y = train[['Sales']]\n",
    "X = train.drop('Sales',axis=1)\n",
    "\n",
    "y.mean()"
   ]
  },
  {
   "cell_type": "code",
   "execution_count": 7,
   "id": "344c2d04",
   "metadata": {},
   "outputs": [
    {
     "data": {
      "text/html": [
       "<div>\n",
       "<style scoped>\n",
       "    .dataframe tbody tr th:only-of-type {\n",
       "        vertical-align: middle;\n",
       "    }\n",
       "\n",
       "    .dataframe tbody tr th {\n",
       "        vertical-align: top;\n",
       "    }\n",
       "\n",
       "    .dataframe thead th {\n",
       "        text-align: right;\n",
       "    }\n",
       "</style>\n",
       "<table border=\"1\" class=\"dataframe\">\n",
       "  <thead>\n",
       "    <tr style=\"text-align: right;\">\n",
       "      <th></th>\n",
       "      <th>Item_ID</th>\n",
       "      <th>Item_W</th>\n",
       "      <th>Item_Type</th>\n",
       "      <th>Item_MRP</th>\n",
       "      <th>Outlet_ID</th>\n",
       "      <th>Outlet_Year</th>\n",
       "      <th>Outlet_Size</th>\n",
       "      <th>Outlet_Location_Type</th>\n",
       "    </tr>\n",
       "  </thead>\n",
       "  <tbody>\n",
       "    <tr>\n",
       "      <th>0</th>\n",
       "      <td>DRM23</td>\n",
       "      <td>10.156725</td>\n",
       "      <td>Snack Foods</td>\n",
       "      <td>119.319482</td>\n",
       "      <td>OUT013</td>\n",
       "      <td>1999</td>\n",
       "      <td>High</td>\n",
       "      <td>Tier 3</td>\n",
       "    </tr>\n",
       "    <tr>\n",
       "      <th>1</th>\n",
       "      <td>FDG47</td>\n",
       "      <td>10.434425</td>\n",
       "      <td>Household</td>\n",
       "      <td>263.600449</td>\n",
       "      <td>OUT018</td>\n",
       "      <td>1987</td>\n",
       "      <td>High</td>\n",
       "      <td>Tier 3</td>\n",
       "    </tr>\n",
       "    <tr>\n",
       "      <th>2</th>\n",
       "      <td>FDN21</td>\n",
       "      <td>11.953589</td>\n",
       "      <td>Health and Hygiene</td>\n",
       "      <td>246.286990</td>\n",
       "      <td>OUT018</td>\n",
       "      <td>1997</td>\n",
       "      <td>High</td>\n",
       "      <td>Tier 1</td>\n",
       "    </tr>\n",
       "    <tr>\n",
       "      <th>3</th>\n",
       "      <td>FDZ23</td>\n",
       "      <td>14.948546</td>\n",
       "      <td>Dairy</td>\n",
       "      <td>136.200508</td>\n",
       "      <td>OUT046</td>\n",
       "      <td>2004</td>\n",
       "      <td>Medium</td>\n",
       "      <td>Tier 2</td>\n",
       "    </tr>\n",
       "    <tr>\n",
       "      <th>4</th>\n",
       "      <td>FDC16</td>\n",
       "      <td>11.080042</td>\n",
       "      <td>Canned</td>\n",
       "      <td>173.145664</td>\n",
       "      <td>OUT018</td>\n",
       "      <td>2009</td>\n",
       "      <td>Medium</td>\n",
       "      <td>Tier 3</td>\n",
       "    </tr>\n",
       "    <tr>\n",
       "      <th>5</th>\n",
       "      <td>NCE07</td>\n",
       "      <td>17.926047</td>\n",
       "      <td>Snack Foods</td>\n",
       "      <td>170.715640</td>\n",
       "      <td>OUT035</td>\n",
       "      <td>1999</td>\n",
       "      <td>High</td>\n",
       "      <td>Tier 1</td>\n",
       "    </tr>\n",
       "    <tr>\n",
       "      <th>6</th>\n",
       "      <td>FDH27</td>\n",
       "      <td>17.015887</td>\n",
       "      <td>Canned</td>\n",
       "      <td>129.429127</td>\n",
       "      <td>OUT013</td>\n",
       "      <td>1987</td>\n",
       "      <td>Medium</td>\n",
       "      <td>Tier 1</td>\n",
       "    </tr>\n",
       "    <tr>\n",
       "      <th>7</th>\n",
       "      <td>FDL13</td>\n",
       "      <td>17.667898</td>\n",
       "      <td>Frozen Foods</td>\n",
       "      <td>117.019439</td>\n",
       "      <td>OUT046</td>\n",
       "      <td>1996</td>\n",
       "      <td>Medium</td>\n",
       "      <td>Tier 3</td>\n",
       "    </tr>\n",
       "    <tr>\n",
       "      <th>8</th>\n",
       "      <td>NCX30</td>\n",
       "      <td>13.427877</td>\n",
       "      <td>Dairy</td>\n",
       "      <td>237.580902</td>\n",
       "      <td>OUT049</td>\n",
       "      <td>1997</td>\n",
       "      <td>Medium</td>\n",
       "      <td>Tier 2</td>\n",
       "    </tr>\n",
       "    <tr>\n",
       "      <th>9</th>\n",
       "      <td>FDR35</td>\n",
       "      <td>12.461133</td>\n",
       "      <td>Health and Hygiene</td>\n",
       "      <td>138.913990</td>\n",
       "      <td>OUT013</td>\n",
       "      <td>2009</td>\n",
       "      <td>High</td>\n",
       "      <td>Tier 3</td>\n",
       "    </tr>\n",
       "  </tbody>\n",
       "</table>\n",
       "</div>"
      ],
      "text/plain": [
       "  Item_ID     Item_W           Item_Type    Item_MRP Outlet_ID  Outlet_Year  \\\n",
       "0   DRM23  10.156725         Snack Foods  119.319482    OUT013         1999   \n",
       "1   FDG47  10.434425           Household  263.600449    OUT018         1987   \n",
       "2   FDN21  11.953589  Health and Hygiene  246.286990    OUT018         1997   \n",
       "3   FDZ23  14.948546               Dairy  136.200508    OUT046         2004   \n",
       "4   FDC16  11.080042              Canned  173.145664    OUT018         2009   \n",
       "5   NCE07  17.926047         Snack Foods  170.715640    OUT035         1999   \n",
       "6   FDH27  17.015887              Canned  129.429127    OUT013         1987   \n",
       "7   FDL13  17.667898        Frozen Foods  117.019439    OUT046         1996   \n",
       "8   NCX30  13.427877               Dairy  237.580902    OUT049         1997   \n",
       "9   FDR35  12.461133  Health and Hygiene  138.913990    OUT013         2009   \n",
       "\n",
       "  Outlet_Size Outlet_Location_Type  \n",
       "0        High               Tier 3  \n",
       "1        High               Tier 3  \n",
       "2        High               Tier 1  \n",
       "3      Medium               Tier 2  \n",
       "4      Medium               Tier 3  \n",
       "5        High               Tier 1  \n",
       "6      Medium               Tier 1  \n",
       "7      Medium               Tier 3  \n",
       "8      Medium               Tier 2  \n",
       "9        High               Tier 3  "
      ]
     },
     "execution_count": 7,
     "metadata": {},
     "output_type": "execute_result"
    }
   ],
   "source": [
    "test = pd.read_csv('test.csv')\n",
    "test.head(10)"
   ]
  },
  {
   "cell_type": "code",
   "execution_count": 8,
   "id": "88911c91",
   "metadata": {},
   "outputs": [
    {
     "data": {
      "text/plain": [
       "(37656, 8)"
      ]
     },
     "execution_count": 8,
     "metadata": {},
     "output_type": "execute_result"
    }
   ],
   "source": [
    "test.shape"
   ]
  },
  {
   "cell_type": "code",
   "execution_count": 9,
   "id": "f292a382",
   "metadata": {},
   "outputs": [
    {
     "data": {
      "text/plain": [
       "Item_ID                 0\n",
       "Item_W                  0\n",
       "Item_Type               0\n",
       "Item_MRP                0\n",
       "Outlet_ID               0\n",
       "Outlet_Year             0\n",
       "Outlet_Size             0\n",
       "Outlet_Location_Type    0\n",
       "dtype: int64"
      ]
     },
     "execution_count": 9,
     "metadata": {},
     "output_type": "execute_result"
    }
   ],
   "source": [
    "test.isnull().sum()"
   ]
  },
  {
   "cell_type": "code",
   "execution_count": 11,
   "id": "92c374c1",
   "metadata": {},
   "outputs": [
    {
     "data": {
      "text/html": [
       "<div>\n",
       "<style scoped>\n",
       "    .dataframe tbody tr th:only-of-type {\n",
       "        vertical-align: middle;\n",
       "    }\n",
       "\n",
       "    .dataframe tbody tr th {\n",
       "        vertical-align: top;\n",
       "    }\n",
       "\n",
       "    .dataframe thead th {\n",
       "        text-align: right;\n",
       "    }\n",
       "</style>\n",
       "<table border=\"1\" class=\"dataframe\">\n",
       "  <thead>\n",
       "    <tr style=\"text-align: right;\">\n",
       "      <th></th>\n",
       "      <th>Item_ID</th>\n",
       "      <th>Item_W</th>\n",
       "      <th>Item_Type</th>\n",
       "      <th>Item_MRP</th>\n",
       "      <th>Outlet_ID</th>\n",
       "      <th>Outlet_Year</th>\n",
       "      <th>Outlet_Size</th>\n",
       "      <th>Outlet_Location_Type</th>\n",
       "      <th>Sales</th>\n",
       "    </tr>\n",
       "  </thead>\n",
       "  <tbody>\n",
       "    <tr>\n",
       "      <th>count</th>\n",
       "      <td>87864</td>\n",
       "      <td>87864.000000</td>\n",
       "      <td>87864</td>\n",
       "      <td>87864.000000</td>\n",
       "      <td>87864</td>\n",
       "      <td>87864.00000</td>\n",
       "      <td>87864</td>\n",
       "      <td>87864</td>\n",
       "      <td>87864.000000</td>\n",
       "    </tr>\n",
       "    <tr>\n",
       "      <th>unique</th>\n",
       "      <td>895</td>\n",
       "      <td>NaN</td>\n",
       "      <td>16</td>\n",
       "      <td>NaN</td>\n",
       "      <td>5</td>\n",
       "      <td>NaN</td>\n",
       "      <td>3</td>\n",
       "      <td>3</td>\n",
       "      <td>NaN</td>\n",
       "    </tr>\n",
       "    <tr>\n",
       "      <th>top</th>\n",
       "      <td>FDE11</td>\n",
       "      <td>NaN</td>\n",
       "      <td>Baking Goods</td>\n",
       "      <td>NaN</td>\n",
       "      <td>OUT035</td>\n",
       "      <td>NaN</td>\n",
       "      <td>Small</td>\n",
       "      <td>Tier 1</td>\n",
       "      <td>NaN</td>\n",
       "    </tr>\n",
       "    <tr>\n",
       "      <th>freq</th>\n",
       "      <td>419</td>\n",
       "      <td>NaN</td>\n",
       "      <td>14666</td>\n",
       "      <td>NaN</td>\n",
       "      <td>24071</td>\n",
       "      <td>NaN</td>\n",
       "      <td>48614</td>\n",
       "      <td>33567</td>\n",
       "      <td>NaN</td>\n",
       "    </tr>\n",
       "    <tr>\n",
       "      <th>mean</th>\n",
       "      <td>NaN</td>\n",
       "      <td>15.591469</td>\n",
       "      <td>NaN</td>\n",
       "      <td>151.242943</td>\n",
       "      <td>NaN</td>\n",
       "      <td>1999.87063</td>\n",
       "      <td>NaN</td>\n",
       "      <td>NaN</td>\n",
       "      <td>1911.842120</td>\n",
       "    </tr>\n",
       "    <tr>\n",
       "      <th>std</th>\n",
       "      <td>NaN</td>\n",
       "      <td>4.364429</td>\n",
       "      <td>NaN</td>\n",
       "      <td>59.536366</td>\n",
       "      <td>NaN</td>\n",
       "      <td>6.63429</td>\n",
       "      <td>NaN</td>\n",
       "      <td>NaN</td>\n",
       "      <td>1291.386004</td>\n",
       "    </tr>\n",
       "    <tr>\n",
       "      <th>min</th>\n",
       "      <td>NaN</td>\n",
       "      <td>7.992700</td>\n",
       "      <td>NaN</td>\n",
       "      <td>32.910015</td>\n",
       "      <td>NaN</td>\n",
       "      <td>1987.00000</td>\n",
       "      <td>NaN</td>\n",
       "      <td>NaN</td>\n",
       "      <td>-1229.360345</td>\n",
       "    </tr>\n",
       "    <tr>\n",
       "      <th>25%</th>\n",
       "      <td>NaN</td>\n",
       "      <td>10.968658</td>\n",
       "      <td>NaN</td>\n",
       "      <td>112.423337</td>\n",
       "      <td>NaN</td>\n",
       "      <td>1997.00000</td>\n",
       "      <td>NaN</td>\n",
       "      <td>NaN</td>\n",
       "      <td>959.249675</td>\n",
       "    </tr>\n",
       "    <tr>\n",
       "      <th>50%</th>\n",
       "      <td>NaN</td>\n",
       "      <td>15.831170</td>\n",
       "      <td>NaN</td>\n",
       "      <td>145.581473</td>\n",
       "      <td>NaN</td>\n",
       "      <td>1999.00000</td>\n",
       "      <td>NaN</td>\n",
       "      <td>NaN</td>\n",
       "      <td>1606.307877</td>\n",
       "    </tr>\n",
       "    <tr>\n",
       "      <th>75%</th>\n",
       "      <td>NaN</td>\n",
       "      <td>19.969936</td>\n",
       "      <td>NaN</td>\n",
       "      <td>197.110367</td>\n",
       "      <td>NaN</td>\n",
       "      <td>2004.00000</td>\n",
       "      <td>NaN</td>\n",
       "      <td>NaN</td>\n",
       "      <td>2608.057736</td>\n",
       "    </tr>\n",
       "    <tr>\n",
       "      <th>max</th>\n",
       "      <td>NaN</td>\n",
       "      <td>21.250000</td>\n",
       "      <td>NaN</td>\n",
       "      <td>265.214271</td>\n",
       "      <td>NaN</td>\n",
       "      <td>2009.00000</td>\n",
       "      <td>NaN</td>\n",
       "      <td>NaN</td>\n",
       "      <td>10309.283310</td>\n",
       "    </tr>\n",
       "  </tbody>\n",
       "</table>\n",
       "</div>"
      ],
      "text/plain": [
       "       Item_ID        Item_W     Item_Type      Item_MRP Outlet_ID  \\\n",
       "count    87864  87864.000000         87864  87864.000000     87864   \n",
       "unique     895           NaN            16           NaN         5   \n",
       "top      FDE11           NaN  Baking Goods           NaN    OUT035   \n",
       "freq       419           NaN         14666           NaN     24071   \n",
       "mean       NaN     15.591469           NaN    151.242943       NaN   \n",
       "std        NaN      4.364429           NaN     59.536366       NaN   \n",
       "min        NaN      7.992700           NaN     32.910015       NaN   \n",
       "25%        NaN     10.968658           NaN    112.423337       NaN   \n",
       "50%        NaN     15.831170           NaN    145.581473       NaN   \n",
       "75%        NaN     19.969936           NaN    197.110367       NaN   \n",
       "max        NaN     21.250000           NaN    265.214271       NaN   \n",
       "\n",
       "        Outlet_Year Outlet_Size Outlet_Location_Type         Sales  \n",
       "count   87864.00000       87864                87864  87864.000000  \n",
       "unique          NaN           3                    3           NaN  \n",
       "top             NaN       Small               Tier 1           NaN  \n",
       "freq            NaN       48614                33567           NaN  \n",
       "mean     1999.87063         NaN                  NaN   1911.842120  \n",
       "std         6.63429         NaN                  NaN   1291.386004  \n",
       "min      1987.00000         NaN                  NaN  -1229.360345  \n",
       "25%      1997.00000         NaN                  NaN    959.249675  \n",
       "50%      1999.00000         NaN                  NaN   1606.307877  \n",
       "75%      2004.00000         NaN                  NaN   2608.057736  \n",
       "max      2009.00000         NaN                  NaN  10309.283310  "
      ]
     },
     "execution_count": 11,
     "metadata": {},
     "output_type": "execute_result"
    }
   ],
   "source": [
    "train.describe(include='all')"
   ]
  },
  {
   "cell_type": "code",
   "execution_count": 25,
   "id": "b9b19a48",
   "metadata": {},
   "outputs": [
    {
     "data": {
      "text/html": [
       "<div>\n",
       "<style scoped>\n",
       "    .dataframe tbody tr th:only-of-type {\n",
       "        vertical-align: middle;\n",
       "    }\n",
       "\n",
       "    .dataframe tbody tr th {\n",
       "        vertical-align: top;\n",
       "    }\n",
       "\n",
       "    .dataframe thead th {\n",
       "        text-align: right;\n",
       "    }\n",
       "</style>\n",
       "<table border=\"1\" class=\"dataframe\">\n",
       "  <thead>\n",
       "    <tr style=\"text-align: right;\">\n",
       "      <th></th>\n",
       "      <th>Item_ID</th>\n",
       "      <th>Item_W</th>\n",
       "      <th>Item_Type</th>\n",
       "      <th>Item_MRP</th>\n",
       "      <th>Outlet_ID</th>\n",
       "      <th>Outlet_Year</th>\n",
       "      <th>Outlet_Size</th>\n",
       "      <th>Outlet_Location_Type</th>\n",
       "      <th>Sales</th>\n",
       "    </tr>\n",
       "  </thead>\n",
       "  <tbody>\n",
       "    <tr>\n",
       "      <th>102</th>\n",
       "      <td>FDI14</td>\n",
       "      <td>20.996995</td>\n",
       "      <td>Meat</td>\n",
       "      <td>191.974325</td>\n",
       "      <td>OUT046</td>\n",
       "      <td>1987</td>\n",
       "      <td>Small</td>\n",
       "      <td>Tier 2</td>\n",
       "      <td>-46.046126</td>\n",
       "    </tr>\n",
       "    <tr>\n",
       "      <th>133</th>\n",
       "      <td>FDZ52</td>\n",
       "      <td>20.873340</td>\n",
       "      <td>Others</td>\n",
       "      <td>149.528575</td>\n",
       "      <td>OUT049</td>\n",
       "      <td>1987</td>\n",
       "      <td>Small</td>\n",
       "      <td>Tier 2</td>\n",
       "      <td>-25.433674</td>\n",
       "    </tr>\n",
       "    <tr>\n",
       "      <th>892</th>\n",
       "      <td>FDN12</td>\n",
       "      <td>20.407615</td>\n",
       "      <td>Starchy Foods</td>\n",
       "      <td>110.410412</td>\n",
       "      <td>OUT049</td>\n",
       "      <td>1999</td>\n",
       "      <td>Small</td>\n",
       "      <td>Tier 2</td>\n",
       "      <td>-4.505521</td>\n",
       "    </tr>\n",
       "    <tr>\n",
       "      <th>976</th>\n",
       "      <td>DRE48</td>\n",
       "      <td>20.004882</td>\n",
       "      <td>Hard Drinks</td>\n",
       "      <td>142.408146</td>\n",
       "      <td>OUT049</td>\n",
       "      <td>1997</td>\n",
       "      <td>Small</td>\n",
       "      <td>Tier 2</td>\n",
       "      <td>-2.610184</td>\n",
       "    </tr>\n",
       "    <tr>\n",
       "      <th>1179</th>\n",
       "      <td>FDA39</td>\n",
       "      <td>19.945005</td>\n",
       "      <td>Baking Goods</td>\n",
       "      <td>176.576055</td>\n",
       "      <td>OUT035</td>\n",
       "      <td>1997</td>\n",
       "      <td>Small</td>\n",
       "      <td>Tier 1</td>\n",
       "      <td>-64.609374</td>\n",
       "    </tr>\n",
       "    <tr>\n",
       "      <th>...</th>\n",
       "      <td>...</td>\n",
       "      <td>...</td>\n",
       "      <td>...</td>\n",
       "      <td>...</td>\n",
       "      <td>...</td>\n",
       "      <td>...</td>\n",
       "      <td>...</td>\n",
       "      <td>...</td>\n",
       "      <td>...</td>\n",
       "    </tr>\n",
       "    <tr>\n",
       "      <th>87527</th>\n",
       "      <td>FDC29</td>\n",
       "      <td>9.283741</td>\n",
       "      <td>Household</td>\n",
       "      <td>109.242698</td>\n",
       "      <td>OUT018</td>\n",
       "      <td>1988</td>\n",
       "      <td>Medium</td>\n",
       "      <td>Tier 3</td>\n",
       "      <td>-195.344449</td>\n",
       "    </tr>\n",
       "    <tr>\n",
       "      <th>87637</th>\n",
       "      <td>FDS19</td>\n",
       "      <td>13.564846</td>\n",
       "      <td>Dairy</td>\n",
       "      <td>116.893304</td>\n",
       "      <td>OUT013</td>\n",
       "      <td>2009</td>\n",
       "      <td>High</td>\n",
       "      <td>Tier 3</td>\n",
       "      <td>-80.265162</td>\n",
       "    </tr>\n",
       "    <tr>\n",
       "      <th>87736</th>\n",
       "      <td>FDY25</td>\n",
       "      <td>14.385612</td>\n",
       "      <td>Dairy</td>\n",
       "      <td>131.794383</td>\n",
       "      <td>OUT046</td>\n",
       "      <td>1999</td>\n",
       "      <td>Medium</td>\n",
       "      <td>Tier 2</td>\n",
       "      <td>-137.479746</td>\n",
       "    </tr>\n",
       "    <tr>\n",
       "      <th>87818</th>\n",
       "      <td>NCS30</td>\n",
       "      <td>10.452695</td>\n",
       "      <td>Canned</td>\n",
       "      <td>128.581028</td>\n",
       "      <td>OUT018</td>\n",
       "      <td>2009</td>\n",
       "      <td>Medium</td>\n",
       "      <td>Tier 3</td>\n",
       "      <td>-1.162543</td>\n",
       "    </tr>\n",
       "    <tr>\n",
       "      <th>87857</th>\n",
       "      <td>NCC18</td>\n",
       "      <td>13.701546</td>\n",
       "      <td>Household</td>\n",
       "      <td>193.846250</td>\n",
       "      <td>OUT018</td>\n",
       "      <td>2009</td>\n",
       "      <td>Medium</td>\n",
       "      <td>Tier 3</td>\n",
       "      <td>-230.043351</td>\n",
       "    </tr>\n",
       "  </tbody>\n",
       "</table>\n",
       "<p>397 rows × 9 columns</p>\n",
       "</div>"
      ],
      "text/plain": [
       "      Item_ID     Item_W      Item_Type    Item_MRP Outlet_ID  Outlet_Year  \\\n",
       "102     FDI14  20.996995           Meat  191.974325    OUT046         1987   \n",
       "133     FDZ52  20.873340         Others  149.528575    OUT049         1987   \n",
       "892     FDN12  20.407615  Starchy Foods  110.410412    OUT049         1999   \n",
       "976     DRE48  20.004882    Hard Drinks  142.408146    OUT049         1997   \n",
       "1179    FDA39  19.945005   Baking Goods  176.576055    OUT035         1997   \n",
       "...       ...        ...            ...         ...       ...          ...   \n",
       "87527   FDC29   9.283741      Household  109.242698    OUT018         1988   \n",
       "87637   FDS19  13.564846          Dairy  116.893304    OUT013         2009   \n",
       "87736   FDY25  14.385612          Dairy  131.794383    OUT046         1999   \n",
       "87818   NCS30  10.452695         Canned  128.581028    OUT018         2009   \n",
       "87857   NCC18  13.701546      Household  193.846250    OUT018         2009   \n",
       "\n",
       "      Outlet_Size Outlet_Location_Type       Sales  \n",
       "102         Small               Tier 2  -46.046126  \n",
       "133         Small               Tier 2  -25.433674  \n",
       "892         Small               Tier 2   -4.505521  \n",
       "976         Small               Tier 2   -2.610184  \n",
       "1179        Small               Tier 1  -64.609374  \n",
       "...           ...                  ...         ...  \n",
       "87527      Medium               Tier 3 -195.344449  \n",
       "87637        High               Tier 3  -80.265162  \n",
       "87736      Medium               Tier 2 -137.479746  \n",
       "87818      Medium               Tier 3   -1.162543  \n",
       "87857      Medium               Tier 3 -230.043351  \n",
       "\n",
       "[397 rows x 9 columns]"
      ]
     },
     "execution_count": 25,
     "metadata": {},
     "output_type": "execute_result"
    }
   ],
   "source": [
    "neg_sales = train[train['Sales']<0]\n",
    "neg_sales"
   ]
  },
  {
   "cell_type": "code",
   "execution_count": 12,
   "id": "947a6996",
   "metadata": {},
   "outputs": [
    {
     "data": {
      "text/plain": [
       "FDE11    419\n",
       "NCE07    362\n",
       "NCL18    346\n",
       "NCO06    336\n",
       "FDD51    329\n",
       "        ... \n",
       "FDM15      2\n",
       "FDC32      2\n",
       "DRF60      2\n",
       "NCM19      1\n",
       "FDA22      1\n",
       "Name: Item_ID, Length: 895, dtype: int64"
      ]
     },
     "execution_count": 12,
     "metadata": {},
     "output_type": "execute_result"
    }
   ],
   "source": [
    "train.Item_ID.value_counts()"
   ]
  },
  {
   "cell_type": "code",
   "execution_count": 19,
   "id": "7eb3b6ba",
   "metadata": {},
   "outputs": [
    {
     "data": {
      "text/plain": [
       "<AxesSubplot:xlabel='Outlet_Size', ylabel='count'>"
      ]
     },
     "execution_count": 19,
     "metadata": {},
     "output_type": "execute_result"
    },
    {
     "data": {
      "image/png": "[encoded data removed]",
      "text/plain": [
       "<Figure size 432x288 with 1 Axes>"
      ]
     },
     "metadata": {
      "needs_background": "light"
     },
     "output_type": "display_data"
    }
   ],
   "source": [
    "sns.countplot(train.Outlet_Size)"
   ]
  },
  {
   "cell_type": "code",
   "execution_count": 20,
   "id": "5201ad78",
   "metadata": {},
   "outputs": [
    {
     "data": {
      "text/plain": [
       "<AxesSubplot:xlabel='Outlet_Location_Type', ylabel='count'>"
      ]
     },
     "execution_count": 20,
     "metadata": {},
     "output_type": "execute_result"
    },
    {
     "data": {
      "image/png": "[encoded data removed]",
      "text/plain": [
       "<Figure size 432x288 with 1 Axes>"
      ]
     },
     "metadata": {
      "needs_background": "light"
     },
     "output_type": "display_data"
    }
   ],
   "source": [
    "sns.countplot(train.Outlet_Location_Type)"
   ]
  },
  {
   "cell_type": "code",
   "execution_count": 26,
   "id": "eb126340",
   "metadata": {},
   "outputs": [],
   "source": [
    "# Splitting into numerical and categorical \n",
    "\n",
    "num = X.select_dtypes(include=\"number\")\n",
    "cat = X.select_dtypes(include=\"object\")"
   ]
  },
  {
   "cell_type": "code",
   "execution_count": 27,
   "id": "a62d4b96",
   "metadata": {},
   "outputs": [
    {
     "data": {
      "text/html": [
       "<div>\n",
       "<style scoped>\n",
       "    .dataframe tbody tr th:only-of-type {\n",
       "        vertical-align: middle;\n",
       "    }\n",
       "\n",
       "    .dataframe tbody tr th {\n",
       "        vertical-align: top;\n",
       "    }\n",
       "\n",
       "    .dataframe thead th {\n",
       "        text-align: right;\n",
       "    }\n",
       "</style>\n",
       "<table border=\"1\" class=\"dataframe\">\n",
       "  <thead>\n",
       "    <tr style=\"text-align: right;\">\n",
       "      <th></th>\n",
       "      <th>Item_W</th>\n",
       "      <th>Item_MRP</th>\n",
       "      <th>Outlet_Year</th>\n",
       "    </tr>\n",
       "  </thead>\n",
       "  <tbody>\n",
       "    <tr>\n",
       "      <th>0</th>\n",
       "      <td>21.027499</td>\n",
       "      <td>197.352319</td>\n",
       "      <td>2004</td>\n",
       "    </tr>\n",
       "    <tr>\n",
       "      <th>1</th>\n",
       "      <td>21.102371</td>\n",
       "      <td>148.250214</td>\n",
       "      <td>1987</td>\n",
       "    </tr>\n",
       "    <tr>\n",
       "      <th>2</th>\n",
       "      <td>20.882263</td>\n",
       "      <td>205.465010</td>\n",
       "      <td>1999</td>\n",
       "    </tr>\n",
       "    <tr>\n",
       "      <th>3</th>\n",
       "      <td>21.050435</td>\n",
       "      <td>253.417583</td>\n",
       "      <td>1996</td>\n",
       "    </tr>\n",
       "    <tr>\n",
       "      <th>4</th>\n",
       "      <td>21.247876</td>\n",
       "      <td>240.871039</td>\n",
       "      <td>1988</td>\n",
       "    </tr>\n",
       "  </tbody>\n",
       "</table>\n",
       "</div>"
      ],
      "text/plain": [
       "      Item_W    Item_MRP  Outlet_Year\n",
       "0  21.027499  197.352319         2004\n",
       "1  21.102371  148.250214         1987\n",
       "2  20.882263  205.465010         1999\n",
       "3  21.050435  253.417583         1996\n",
       "4  21.247876  240.871039         1988"
      ]
     },
     "execution_count": 27,
     "metadata": {},
     "output_type": "execute_result"
    }
   ],
   "source": [
    "num.head()"
   ]
  },
  {
   "cell_type": "code",
   "execution_count": 28,
   "id": "f62e32e6",
   "metadata": {},
   "outputs": [
    {
     "data": {
      "text/html": [
       "<div>\n",
       "<style scoped>\n",
       "    .dataframe tbody tr th:only-of-type {\n",
       "        vertical-align: middle;\n",
       "    }\n",
       "\n",
       "    .dataframe tbody tr th {\n",
       "        vertical-align: top;\n",
       "    }\n",
       "\n",
       "    .dataframe thead th {\n",
       "        text-align: right;\n",
       "    }\n",
       "</style>\n",
       "<table border=\"1\" class=\"dataframe\">\n",
       "  <thead>\n",
       "    <tr style=\"text-align: right;\">\n",
       "      <th></th>\n",
       "      <th>Item_ID</th>\n",
       "      <th>Item_Type</th>\n",
       "      <th>Outlet_ID</th>\n",
       "      <th>Outlet_Size</th>\n",
       "      <th>Outlet_Location_Type</th>\n",
       "    </tr>\n",
       "  </thead>\n",
       "  <tbody>\n",
       "    <tr>\n",
       "      <th>0</th>\n",
       "      <td>FDU32</td>\n",
       "      <td>Baking Goods</td>\n",
       "      <td>OUT046</td>\n",
       "      <td>Small</td>\n",
       "      <td>Tier 2</td>\n",
       "    </tr>\n",
       "    <tr>\n",
       "      <th>1</th>\n",
       "      <td>NCT54</td>\n",
       "      <td>Meat</td>\n",
       "      <td>OUT035</td>\n",
       "      <td>Small</td>\n",
       "      <td>Tier 1</td>\n",
       "    </tr>\n",
       "    <tr>\n",
       "      <th>2</th>\n",
       "      <td>FDW08</td>\n",
       "      <td>Hard Drinks</td>\n",
       "      <td>OUT035</td>\n",
       "      <td>Small</td>\n",
       "      <td>Tier 3</td>\n",
       "    </tr>\n",
       "    <tr>\n",
       "      <th>3</th>\n",
       "      <td>FDJ22</td>\n",
       "      <td>Starchy Foods</td>\n",
       "      <td>OUT046</td>\n",
       "      <td>Small</td>\n",
       "      <td>Tier 1</td>\n",
       "    </tr>\n",
       "    <tr>\n",
       "      <th>4</th>\n",
       "      <td>FDF47</td>\n",
       "      <td>Baking Goods</td>\n",
       "      <td>OUT035</td>\n",
       "      <td>Small</td>\n",
       "      <td>Tier 3</td>\n",
       "    </tr>\n",
       "  </tbody>\n",
       "</table>\n",
       "</div>"
      ],
      "text/plain": [
       "  Item_ID      Item_Type Outlet_ID Outlet_Size Outlet_Location_Type\n",
       "0   FDU32   Baking Goods    OUT046       Small               Tier 2\n",
       "1   NCT54           Meat    OUT035       Small               Tier 1\n",
       "2   FDW08    Hard Drinks    OUT035       Small               Tier 3\n",
       "3   FDJ22  Starchy Foods    OUT046       Small               Tier 1\n",
       "4   FDF47   Baking Goods    OUT035       Small               Tier 3"
      ]
     },
     "execution_count": 28,
     "metadata": {},
     "output_type": "execute_result"
    }
   ],
   "source": [
    "cat.head()"
   ]
  },
  {
   "cell_type": "code",
   "execution_count": 29,
   "id": "d323c8ce",
   "metadata": {},
   "outputs": [
    {
     "data": {
      "text/plain": [
       "1997    16916\n",
       "2004    15197\n",
       "2009    13662\n",
       "1999    13046\n",
       "1987    10357\n",
       "1996     4684\n",
       "2003     4622\n",
       "2008     4106\n",
       "1998     3798\n",
       "1988     1440\n",
       "2007       20\n",
       "2005       16\n",
       "Name: Outlet_Year, dtype: int64"
      ]
     },
     "execution_count": 29,
     "metadata": {},
     "output_type": "execute_result"
    }
   ],
   "source": [
    "num.Outlet_Year.value_counts()"
   ]
  },
  {
   "cell_type": "code",
   "execution_count": 31,
   "id": "9963ac91",
   "metadata": {},
   "outputs": [],
   "source": [
    "ind = num[['Outlet_Year']]\n",
    "num.drop('Outlet_Year',axis=1,inplace=True)"
   ]
  },
  {
   "cell_type": "code",
   "execution_count": 32,
   "id": "a51b61e3",
   "metadata": {},
   "outputs": [
    {
     "data": {
      "text/html": [
       "<div>\n",
       "<style scoped>\n",
       "    .dataframe tbody tr th:only-of-type {\n",
       "        vertical-align: middle;\n",
       "    }\n",
       "\n",
       "    .dataframe tbody tr th {\n",
       "        vertical-align: top;\n",
       "    }\n",
       "\n",
       "    .dataframe thead th {\n",
       "        text-align: right;\n",
       "    }\n",
       "</style>\n",
       "<table border=\"1\" class=\"dataframe\">\n",
       "  <thead>\n",
       "    <tr style=\"text-align: right;\">\n",
       "      <th></th>\n",
       "      <th>Item_W</th>\n",
       "      <th>Item_MRP</th>\n",
       "    </tr>\n",
       "  </thead>\n",
       "  <tbody>\n",
       "    <tr>\n",
       "      <th>count</th>\n",
       "      <td>87864.000000</td>\n",
       "      <td>87864.000000</td>\n",
       "    </tr>\n",
       "    <tr>\n",
       "      <th>mean</th>\n",
       "      <td>15.591469</td>\n",
       "      <td>151.242943</td>\n",
       "    </tr>\n",
       "    <tr>\n",
       "      <th>std</th>\n",
       "      <td>4.364429</td>\n",
       "      <td>59.536366</td>\n",
       "    </tr>\n",
       "    <tr>\n",
       "      <th>min</th>\n",
       "      <td>7.992700</td>\n",
       "      <td>32.910015</td>\n",
       "    </tr>\n",
       "    <tr>\n",
       "      <th>1%</th>\n",
       "      <td>8.441870</td>\n",
       "      <td>44.421314</td>\n",
       "    </tr>\n",
       "    <tr>\n",
       "      <th>5%</th>\n",
       "      <td>9.132131</td>\n",
       "      <td>55.072785</td>\n",
       "    </tr>\n",
       "    <tr>\n",
       "      <th>10%</th>\n",
       "      <td>9.648708</td>\n",
       "      <td>63.278082</td>\n",
       "    </tr>\n",
       "    <tr>\n",
       "      <th>25%</th>\n",
       "      <td>10.968658</td>\n",
       "      <td>112.423337</td>\n",
       "    </tr>\n",
       "    <tr>\n",
       "      <th>50%</th>\n",
       "      <td>15.831170</td>\n",
       "      <td>145.581473</td>\n",
       "    </tr>\n",
       "    <tr>\n",
       "      <th>75%</th>\n",
       "      <td>19.969936</td>\n",
       "      <td>197.110367</td>\n",
       "    </tr>\n",
       "    <tr>\n",
       "      <th>85%</th>\n",
       "      <td>20.527479</td>\n",
       "      <td>216.381474</td>\n",
       "    </tr>\n",
       "    <tr>\n",
       "      <th>90%</th>\n",
       "      <td>20.781314</td>\n",
       "      <td>240.085414</td>\n",
       "    </tr>\n",
       "    <tr>\n",
       "      <th>99%</th>\n",
       "      <td>21.203170</td>\n",
       "      <td>262.678752</td>\n",
       "    </tr>\n",
       "    <tr>\n",
       "      <th>max</th>\n",
       "      <td>21.250000</td>\n",
       "      <td>265.214271</td>\n",
       "    </tr>\n",
       "  </tbody>\n",
       "</table>\n",
       "</div>"
      ],
      "text/plain": [
       "             Item_W      Item_MRP\n",
       "count  87864.000000  87864.000000\n",
       "mean      15.591469    151.242943\n",
       "std        4.364429     59.536366\n",
       "min        7.992700     32.910015\n",
       "1%         8.441870     44.421314\n",
       "5%         9.132131     55.072785\n",
       "10%        9.648708     63.278082\n",
       "25%       10.968658    112.423337\n",
       "50%       15.831170    145.581473\n",
       "75%       19.969936    197.110367\n",
       "85%       20.527479    216.381474\n",
       "90%       20.781314    240.085414\n",
       "99%       21.203170    262.678752\n",
       "max       21.250000    265.214271"
      ]
     },
     "execution_count": 32,
     "metadata": {},
     "output_type": "execute_result"
    }
   ],
   "source": [
    "num.describe(percentiles=[0.01,0.05,0.10,0.25,0.50,0.75,0.85,0.9,0.99])"
   ]
  },
  {
   "cell_type": "code",
   "execution_count": 33,
   "id": "d70c5a01",
   "metadata": {},
   "outputs": [
    {
     "data": {
      "image/png": "[encoded data removed]",
      "text/plain": [
       "<Figure size 432x288 with 1 Axes>"
      ]
     },
     "metadata": {
      "needs_background": "light"
     },
     "output_type": "display_data"
    },
    {
     "data": {
      "image/png": "[encoded data removed]",
      "text/plain": [
       "<Figure size 432x288 with 1 Axes>"
      ]
     },
     "metadata": {
      "needs_background": "light"
     },
     "output_type": "display_data"
    }
   ],
   "source": [
    "for i in num.columns:\n",
    "  sns.boxplot(num[i])\n",
    "  plt.show()"
   ]
  },
  {
   "cell_type": "code",
   "execution_count": 34,
   "id": "87a6f5d6",
   "metadata": {},
   "outputs": [
    {
     "data": {
      "image/png": "[encoded data removed]",
      "text/plain": [
       "<Figure size 432x288 with 1 Axes>"
      ]
     },
     "metadata": {
      "needs_background": "light"
     },
     "output_type": "display_data"
    },
    {
     "data": {
      "image/png": "[encoded data removed]",
      "text/plain": [
       "<Figure size 432x288 with 1 Axes>"
      ]
     },
     "metadata": {
      "needs_background": "light"
     },
     "output_type": "display_data"
    }
   ],
   "source": [
    "for i in num.columns:\n",
    "  sns.distplot(num[i])\n",
    "  plt.show()"
   ]
  },
  {
   "cell_type": "code",
   "execution_count": 35,
   "id": "bcc5d691",
   "metadata": {},
   "outputs": [],
   "source": [
    "def outlier_remove(x):\n",
    "  x = x.clip(lower=x.quantile(0.01))\n",
    "  x = x.clip(upper=x.quantile(0.99))\n",
    "  return x\n",
    "\n",
    "num = num.apply(lambda x:outlier_remove(x))"
   ]
  },
  {
   "cell_type": "code",
   "execution_count": 36,
   "id": "aaa3c404",
   "metadata": {},
   "outputs": [
    {
     "data": {
      "text/html": [
       "<div>\n",
       "<style scoped>\n",
       "    .dataframe tbody tr th:only-of-type {\n",
       "        vertical-align: middle;\n",
       "    }\n",
       "\n",
       "    .dataframe tbody tr th {\n",
       "        vertical-align: top;\n",
       "    }\n",
       "\n",
       "    .dataframe thead th {\n",
       "        text-align: right;\n",
       "    }\n",
       "</style>\n",
       "<table border=\"1\" class=\"dataframe\">\n",
       "  <thead>\n",
       "    <tr style=\"text-align: right;\">\n",
       "      <th></th>\n",
       "      <th>Sales</th>\n",
       "      <th>Item_ID</th>\n",
       "      <th>Item_Type</th>\n",
       "      <th>Outlet_ID</th>\n",
       "      <th>Outlet_Size</th>\n",
       "      <th>Outlet_Location_Type</th>\n",
       "    </tr>\n",
       "  </thead>\n",
       "  <tbody>\n",
       "    <tr>\n",
       "      <th>0</th>\n",
       "      <td>2689.457781</td>\n",
       "      <td>FDU32</td>\n",
       "      <td>Baking Goods</td>\n",
       "      <td>OUT046</td>\n",
       "      <td>Small</td>\n",
       "      <td>Tier 2</td>\n",
       "    </tr>\n",
       "    <tr>\n",
       "      <th>1</th>\n",
       "      <td>3437.350375</td>\n",
       "      <td>NCT54</td>\n",
       "      <td>Meat</td>\n",
       "      <td>OUT035</td>\n",
       "      <td>Small</td>\n",
       "      <td>Tier 1</td>\n",
       "    </tr>\n",
       "    <tr>\n",
       "      <th>2</th>\n",
       "      <td>3129.967268</td>\n",
       "      <td>FDW08</td>\n",
       "      <td>Hard Drinks</td>\n",
       "      <td>OUT035</td>\n",
       "      <td>Small</td>\n",
       "      <td>Tier 3</td>\n",
       "    </tr>\n",
       "    <tr>\n",
       "      <th>3</th>\n",
       "      <td>1306.514376</td>\n",
       "      <td>FDJ22</td>\n",
       "      <td>Starchy Foods</td>\n",
       "      <td>OUT046</td>\n",
       "      <td>Small</td>\n",
       "      <td>Tier 1</td>\n",
       "    </tr>\n",
       "    <tr>\n",
       "      <th>4</th>\n",
       "      <td>1739.769829</td>\n",
       "      <td>FDF47</td>\n",
       "      <td>Baking Goods</td>\n",
       "      <td>OUT035</td>\n",
       "      <td>Small</td>\n",
       "      <td>Tier 3</td>\n",
       "    </tr>\n",
       "    <tr>\n",
       "      <th>...</th>\n",
       "      <td>...</td>\n",
       "      <td>...</td>\n",
       "      <td>...</td>\n",
       "      <td>...</td>\n",
       "      <td>...</td>\n",
       "      <td>...</td>\n",
       "    </tr>\n",
       "    <tr>\n",
       "      <th>87859</th>\n",
       "      <td>4975.646052</td>\n",
       "      <td>FDG24</td>\n",
       "      <td>Breakfast</td>\n",
       "      <td>OUT035</td>\n",
       "      <td>Medium</td>\n",
       "      <td>Tier 3</td>\n",
       "    </tr>\n",
       "    <tr>\n",
       "      <th>87860</th>\n",
       "      <td>2252.492755</td>\n",
       "      <td>FDA32</td>\n",
       "      <td>Canned</td>\n",
       "      <td>OUT049</td>\n",
       "      <td>Medium</td>\n",
       "      <td>Tier 2</td>\n",
       "    </tr>\n",
       "    <tr>\n",
       "      <th>87861</th>\n",
       "      <td>2716.058050</td>\n",
       "      <td>FDM04</td>\n",
       "      <td>Household</td>\n",
       "      <td>OUT018</td>\n",
       "      <td>Medium</td>\n",
       "      <td>Tier 1</td>\n",
       "    </tr>\n",
       "    <tr>\n",
       "      <th>87862</th>\n",
       "      <td>991.857233</td>\n",
       "      <td>NCS18</td>\n",
       "      <td>Household</td>\n",
       "      <td>OUT018</td>\n",
       "      <td>Medium</td>\n",
       "      <td>Tier 3</td>\n",
       "    </tr>\n",
       "    <tr>\n",
       "      <th>87863</th>\n",
       "      <td>4260.617470</td>\n",
       "      <td>FDQ11</td>\n",
       "      <td>Snack Foods</td>\n",
       "      <td>OUT013</td>\n",
       "      <td>Medium</td>\n",
       "      <td>Tier 3</td>\n",
       "    </tr>\n",
       "  </tbody>\n",
       "</table>\n",
       "<p>87864 rows × 6 columns</p>\n",
       "</div>"
      ],
      "text/plain": [
       "             Sales Item_ID      Item_Type Outlet_ID Outlet_Size  \\\n",
       "0      2689.457781   FDU32   Baking Goods    OUT046       Small   \n",
       "1      3437.350375   NCT54           Meat    OUT035       Small   \n",
       "2      3129.967268   FDW08    Hard Drinks    OUT035       Small   \n",
       "3      1306.514376   FDJ22  Starchy Foods    OUT046       Small   \n",
       "4      1739.769829   FDF47   Baking Goods    OUT035       Small   \n",
       "...            ...     ...            ...       ...         ...   \n",
       "87859  4975.646052   FDG24      Breakfast    OUT035      Medium   \n",
       "87860  2252.492755   FDA32         Canned    OUT049      Medium   \n",
       "87861  2716.058050   FDM04      Household    OUT018      Medium   \n",
       "87862   991.857233   NCS18      Household    OUT018      Medium   \n",
       "87863  4260.617470   FDQ11    Snack Foods    OUT013      Medium   \n",
       "\n",
       "      Outlet_Location_Type  \n",
       "0                   Tier 2  \n",
       "1                   Tier 1  \n",
       "2                   Tier 3  \n",
       "3                   Tier 1  \n",
       "4                   Tier 3  \n",
       "...                    ...  \n",
       "87859               Tier 3  \n",
       "87860               Tier 2  \n",
       "87861               Tier 1  \n",
       "87862               Tier 3  \n",
       "87863               Tier 3  \n",
       "\n",
       "[87864 rows x 6 columns]"
      ]
     },
     "execution_count": 36,
     "metadata": {},
     "output_type": "execute_result"
    }
   ],
   "source": [
    "X_char_merged=pd.concat([y,cat],axis=1,join='inner')\n",
    "X_char_merged"
   ]
  },
  {
   "cell_type": "code",
   "execution_count": 37,
   "id": "cdb9853a",
   "metadata": {},
   "outputs": [
    {
     "data": {
      "image/png": "[encoded data removed]",
      "text/plain": [
       "<Figure size 432x288 with 1 Axes>"
      ]
     },
     "metadata": {
      "needs_background": "light"
     },
     "output_type": "display_data"
    },
    {
     "data": {
      "image/png": "[encoded data removed]",
      "text/plain": [
       "<Figure size 432x288 with 1 Axes>"
      ]
     },
     "metadata": {
      "needs_background": "light"
     },
     "output_type": "display_data"
    },
    {
     "data": {
      "image/png": "[encoded data removed]",
      "text/plain": [
       "<Figure size 432x288 with 1 Axes>"
      ]
     },
     "metadata": {
      "needs_background": "light"
     },
     "output_type": "display_data"
    },
    {
     "data": {
      "image/png": "[encoded data removed]",
      "text/plain": [
       "<Figure size 432x288 with 1 Axes>"
      ]
     },
     "metadata": {
      "needs_background": "light"
     },
     "output_type": "display_data"
    },
    {
     "data": {
      "image/png": "[encoded data removed]",
      "text/plain": [
       "<Figure size 432x288 with 1 Axes>"
      ]
     },
     "metadata": {
      "needs_background": "light"
     },
     "output_type": "display_data"
    }
   ],
   "source": [
    "from numpy import mean\n",
    "for col in (cat.columns):\n",
    "    plt.figure()\n",
    "    sns.lineplot(x=col,y=X_char_merged['Sales'].mean(),data=X_char_merged)\n",
    "    sns.barplot(x=col, y=\"Sales\",data=X_char_merged, estimator=mean )\n",
    "plt.show()"
   ]
  },
  {
   "cell_type": "code",
   "execution_count": 38,
   "id": "2845ffe3",
   "metadata": {},
   "outputs": [],
   "source": [
    "cat=cat.drop(['Item_ID'],axis=1)"
   ]
  },
  {
   "cell_type": "code",
   "execution_count": 39,
   "id": "d305f4ef",
   "metadata": {},
   "outputs": [
    {
     "data": {
      "text/plain": [
       "(87864, 23)"
      ]
     },
     "execution_count": 39,
     "metadata": {},
     "output_type": "execute_result"
    }
   ],
   "source": [
    "X_char_dum = pd.get_dummies(cat, drop_first = True)\n",
    "X_char_dum.shape"
   ]
  },
  {
   "cell_type": "code",
   "execution_count": 41,
   "id": "871c076d",
   "metadata": {},
   "outputs": [
    {
     "data": {
      "image/png": "[encoded data removed]",
      "text/plain": [
       "<Figure size 432x288 with 1 Axes>"
      ]
     },
     "metadata": {
      "needs_background": "light"
     },
     "output_type": "display_data"
    }
   ],
   "source": [
    "X_ind_merged=pd.concat([y,ind],axis=1,join='inner')\n",
    "from numpy import mean\n",
    "for col in (ind.columns):\n",
    "    plt.figure()\n",
    "    sns.barplot(x=col, y=\"Sales\",data=X_ind_merged, estimator=mean )\n",
    "plt.show()"
   ]
  },
  {
   "cell_type": "code",
   "execution_count": 42,
   "id": "367f2db8",
   "metadata": {},
   "outputs": [],
   "source": [
    "select_features_df_ind=ind\n",
    "X_all=pd.concat([X_char_dum,num,select_features_df_ind],axis=1,join=\"inner\")"
   ]
  },
  {
   "cell_type": "code",
   "execution_count": 43,
   "id": "75df440e",
   "metadata": {},
   "outputs": [
    {
     "data": {
      "text/html": [
       "<div>\n",
       "<style scoped>\n",
       "    .dataframe tbody tr th:only-of-type {\n",
       "        vertical-align: middle;\n",
       "    }\n",
       "\n",
       "    .dataframe tbody tr th {\n",
       "        vertical-align: top;\n",
       "    }\n",
       "\n",
       "    .dataframe thead th {\n",
       "        text-align: right;\n",
       "    }\n",
       "</style>\n",
       "<table border=\"1\" class=\"dataframe\">\n",
       "  <thead>\n",
       "    <tr style=\"text-align: right;\">\n",
       "      <th></th>\n",
       "      <th>Item_Type_Breads</th>\n",
       "      <th>Item_Type_Breakfast</th>\n",
       "      <th>Item_Type_Canned</th>\n",
       "      <th>Item_Type_Dairy</th>\n",
       "      <th>Item_Type_Frozen Foods</th>\n",
       "      <th>Item_Type_Fruits and Vegetables</th>\n",
       "      <th>Item_Type_Hard Drinks</th>\n",
       "      <th>Item_Type_Health and Hygiene</th>\n",
       "      <th>Item_Type_Household</th>\n",
       "      <th>Item_Type_Meat</th>\n",
       "      <th>...</th>\n",
       "      <th>Outlet_ID_OUT035</th>\n",
       "      <th>Outlet_ID_OUT046</th>\n",
       "      <th>Outlet_ID_OUT049</th>\n",
       "      <th>Outlet_Size_Medium</th>\n",
       "      <th>Outlet_Size_Small</th>\n",
       "      <th>Outlet_Location_Type_Tier 2</th>\n",
       "      <th>Outlet_Location_Type_Tier 3</th>\n",
       "      <th>Item_W</th>\n",
       "      <th>Item_MRP</th>\n",
       "      <th>Outlet_Year</th>\n",
       "    </tr>\n",
       "  </thead>\n",
       "  <tbody>\n",
       "    <tr>\n",
       "      <th>0</th>\n",
       "      <td>0</td>\n",
       "      <td>0</td>\n",
       "      <td>0</td>\n",
       "      <td>0</td>\n",
       "      <td>0</td>\n",
       "      <td>0</td>\n",
       "      <td>0</td>\n",
       "      <td>0</td>\n",
       "      <td>0</td>\n",
       "      <td>0</td>\n",
       "      <td>...</td>\n",
       "      <td>0</td>\n",
       "      <td>1</td>\n",
       "      <td>0</td>\n",
       "      <td>0</td>\n",
       "      <td>1</td>\n",
       "      <td>1</td>\n",
       "      <td>0</td>\n",
       "      <td>21.027499</td>\n",
       "      <td>197.352319</td>\n",
       "      <td>2004</td>\n",
       "    </tr>\n",
       "    <tr>\n",
       "      <th>1</th>\n",
       "      <td>0</td>\n",
       "      <td>0</td>\n",
       "      <td>0</td>\n",
       "      <td>0</td>\n",
       "      <td>0</td>\n",
       "      <td>0</td>\n",
       "      <td>0</td>\n",
       "      <td>0</td>\n",
       "      <td>0</td>\n",
       "      <td>1</td>\n",
       "      <td>...</td>\n",
       "      <td>1</td>\n",
       "      <td>0</td>\n",
       "      <td>0</td>\n",
       "      <td>0</td>\n",
       "      <td>1</td>\n",
       "      <td>0</td>\n",
       "      <td>0</td>\n",
       "      <td>21.102371</td>\n",
       "      <td>148.250214</td>\n",
       "      <td>1987</td>\n",
       "    </tr>\n",
       "    <tr>\n",
       "      <th>2</th>\n",
       "      <td>0</td>\n",
       "      <td>0</td>\n",
       "      <td>0</td>\n",
       "      <td>0</td>\n",
       "      <td>0</td>\n",
       "      <td>0</td>\n",
       "      <td>1</td>\n",
       "      <td>0</td>\n",
       "      <td>0</td>\n",
       "      <td>0</td>\n",
       "      <td>...</td>\n",
       "      <td>1</td>\n",
       "      <td>0</td>\n",
       "      <td>0</td>\n",
       "      <td>0</td>\n",
       "      <td>1</td>\n",
       "      <td>0</td>\n",
       "      <td>1</td>\n",
       "      <td>20.882263</td>\n",
       "      <td>205.465010</td>\n",
       "      <td>1999</td>\n",
       "    </tr>\n",
       "    <tr>\n",
       "      <th>3</th>\n",
       "      <td>0</td>\n",
       "      <td>0</td>\n",
       "      <td>0</td>\n",
       "      <td>0</td>\n",
       "      <td>0</td>\n",
       "      <td>0</td>\n",
       "      <td>0</td>\n",
       "      <td>0</td>\n",
       "      <td>0</td>\n",
       "      <td>0</td>\n",
       "      <td>...</td>\n",
       "      <td>0</td>\n",
       "      <td>1</td>\n",
       "      <td>0</td>\n",
       "      <td>0</td>\n",
       "      <td>1</td>\n",
       "      <td>0</td>\n",
       "      <td>0</td>\n",
       "      <td>21.050435</td>\n",
       "      <td>253.417583</td>\n",
       "      <td>1996</td>\n",
       "    </tr>\n",
       "    <tr>\n",
       "      <th>4</th>\n",
       "      <td>0</td>\n",
       "      <td>0</td>\n",
       "      <td>0</td>\n",
       "      <td>0</td>\n",
       "      <td>0</td>\n",
       "      <td>0</td>\n",
       "      <td>0</td>\n",
       "      <td>0</td>\n",
       "      <td>0</td>\n",
       "      <td>0</td>\n",
       "      <td>...</td>\n",
       "      <td>1</td>\n",
       "      <td>0</td>\n",
       "      <td>0</td>\n",
       "      <td>0</td>\n",
       "      <td>1</td>\n",
       "      <td>0</td>\n",
       "      <td>1</td>\n",
       "      <td>21.203170</td>\n",
       "      <td>240.871039</td>\n",
       "      <td>1988</td>\n",
       "    </tr>\n",
       "  </tbody>\n",
       "</table>\n",
       "<p>5 rows × 26 columns</p>\n",
       "</div>"
      ],
      "text/plain": [
       "   Item_Type_Breads  Item_Type_Breakfast  Item_Type_Canned  Item_Type_Dairy  \\\n",
       "0                 0                    0                 0                0   \n",
       "1                 0                    0                 0                0   \n",
       "2                 0                    0                 0                0   \n",
       "3                 0                    0                 0                0   \n",
       "4                 0                    0                 0                0   \n",
       "\n",
       "   Item_Type_Frozen Foods  Item_Type_Fruits and Vegetables  \\\n",
       "0                       0                                0   \n",
       "1                       0                                0   \n",
       "2                       0                                0   \n",
       "3                       0                                0   \n",
       "4                       0                                0   \n",
       "\n",
       "   Item_Type_Hard Drinks  Item_Type_Health and Hygiene  Item_Type_Household  \\\n",
       "0                      0                             0                    0   \n",
       "1                      0                             0                    0   \n",
       "2                      1                             0                    0   \n",
       "3                      0                             0                    0   \n",
       "4                      0                             0                    0   \n",
       "\n",
       "   Item_Type_Meat  ...  Outlet_ID_OUT035  Outlet_ID_OUT046  Outlet_ID_OUT049  \\\n",
       "0               0  ...                 0                 1                 0   \n",
       "1               1  ...                 1                 0                 0   \n",
       "2               0  ...                 1                 0                 0   \n",
       "3               0  ...                 0                 1                 0   \n",
       "4               0  ...                 1                 0                 0   \n",
       "\n",
       "   Outlet_Size_Medium  Outlet_Size_Small  Outlet_Location_Type_Tier 2  \\\n",
       "0                   0                  1                            1   \n",
       "1                   0                  1                            0   \n",
       "2                   0                  1                            0   \n",
       "3                   0                  1                            0   \n",
       "4                   0                  1                            0   \n",
       "\n",
       "   Outlet_Location_Type_Tier 3     Item_W    Item_MRP  Outlet_Year  \n",
       "0                            0  21.027499  197.352319         2004  \n",
       "1                            0  21.102371  148.250214         1987  \n",
       "2                            1  20.882263  205.465010         1999  \n",
       "3                            0  21.050435  253.417583         1996  \n",
       "4                            1  21.203170  240.871039         1988  \n",
       "\n",
       "[5 rows x 26 columns]"
      ]
     },
     "execution_count": 43,
     "metadata": {},
     "output_type": "execute_result"
    }
   ],
   "source": [
    "X_all.head()"
   ]
  },
  {
   "cell_type": "code",
   "execution_count": 46,
   "id": "dc60332a",
   "metadata": {},
   "outputs": [],
   "source": [
    "from sklearn.model_selection import train_test_split\n",
    "X_train, X_test, y_train, y_test=train_test_split(X_all, y, test_size=0.3, random_state=10)"
   ]
  },
  {
   "cell_type": "code",
   "execution_count": 47,
   "id": "79226f9f",
   "metadata": {},
   "outputs": [
    {
     "name": "stdout",
     "output_type": "stream",
     "text": [
      "Shape of Training Data (61504, 26)\n",
      "Shape of Testing Data (26360, 26)\n",
      "Response Rate in Training Data Sales    1908.816259\n",
      "dtype: float64\n",
      "Response Rate in Testing Data Sales    1918.902156\n",
      "dtype: float64\n"
     ]
    }
   ],
   "source": [
    "print(\"Shape of Training Data\",X_train.shape)\n",
    "print(\"Shape of Testing Data\",X_test.shape)\n",
    "print(\"Response Rate in Training Data\",y_train.mean())\n",
    "print(\"Response Rate in Testing Data\",y_test.mean())"
   ]
  },
  {
   "cell_type": "code",
   "execution_count": 48,
   "id": "4cd15794",
   "metadata": {},
   "outputs": [
    {
     "data": {
      "text/plain": [
       "RandomForestRegressor()"
      ]
     },
     "execution_count": 48,
     "metadata": {},
     "output_type": "execute_result"
    }
   ],
   "source": [
    "from sklearn.ensemble import RandomForestRegressor\n",
    "\n",
    "regr = RandomForestRegressor()\n",
    "regr.fit(X_train, y_train)"
   ]
  },
  {
   "cell_type": "code",
   "execution_count": 51,
   "id": "4808b8d6",
   "metadata": {},
   "outputs": [
    {
     "data": {
      "text/plain": [
       "494.72135098556504"
      ]
     },
     "execution_count": 51,
     "metadata": {},
     "output_type": "execute_result"
    }
   ],
   "source": [
    "from sklearn.metrics import mean_squared_error\n",
    "\n",
    "train_predicted=regr.predict(X_train)\n",
    "np.sqrt(mean_squared_error(y_train, train_predicted))"
   ]
  },
  {
   "cell_type": "code",
   "execution_count": 52,
   "id": "b687fc63",
   "metadata": {},
   "outputs": [
    {
     "data": {
      "text/plain": [
       "1327.1026824168682"
      ]
     },
     "execution_count": 52,
     "metadata": {},
     "output_type": "execute_result"
    }
   ],
   "source": [
    "\n",
    "test_predicted=regr.predict(X_test)\n",
    "np.sqrt(mean_squared_error(y_test, test_predicted))"
   ]
  },
  {
   "cell_type": "code",
   "execution_count": 53,
   "id": "b6331c4d",
   "metadata": {},
   "outputs": [
    {
     "data": {
      "text/plain": [
       "array([1123.21444813, 1556.96815153, 1602.1576121 , ..., 1754.65489216,\n",
       "       1587.4491394 , 2187.24058207])"
      ]
     },
     "execution_count": 53,
     "metadata": {},
     "output_type": "execute_result"
    }
   ],
   "source": [
    "test_predicted"
   ]
  },
  {
   "cell_type": "code",
   "execution_count": null,
   "id": "fbba1b3c",
   "metadata": {},
   "outputs": [],
   "source": []
  }
 ],
 "metadata": {
  "kernelspec": {
   "display_name": "Python 3",
   "language": "python",
   "name": "python3"
  },
  "language_info": {
   "codemirror_mode": {
    "name": "ipython",
    "version": 3
   },
   "file_extension": ".py",
   "mimetype": "text/x-python",
   "name": "python",
   "nbconvert_exporter": "python",
   "pygments_lexer": "ipython3",
   "version": "3.8.8"
  }
 },
 "nbformat": 4,
 "nbformat_minor": 5
}
